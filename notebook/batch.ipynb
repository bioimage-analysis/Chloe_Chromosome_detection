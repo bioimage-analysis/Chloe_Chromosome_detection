{
 "cells": [
  {
   "cell_type": "markdown",
   "metadata": {},
   "source": [
    "# Notebook use to analyse Files into a specific folder.\n",
    "\n",
    "You can click `shift` + `enter` to run one cell, you can also click run in top menu.\n",
    "To run all the cells, you can click `kernel` and `Restart and run all` in the top menu."
   ]
  },
  {
   "cell_type": "markdown",
   "metadata": {},
   "source": [
    "### The following path should direct to the folder \"utils\", on Window env it should have slash \" / \" and not backslash \" \\ \" . "
   ]
  },
  {
   "cell_type": "code",
   "execution_count": 1,
   "metadata": {},
   "outputs": [],
   "source": [
    "import sys\n",
    "sys.path.insert(0, \"/Users/Espenel/Desktop/Mini-Grant-Image-analysis/2018/Chloe/ChromosomeDetectionChloe/utils\")"
   ]
  },
  {
   "cell_type": "code",
   "execution_count": 2,
   "metadata": {},
   "outputs": [
    {
     "name": "stderr",
     "output_type": "stream",
     "text": [
      "/Applications/anaconda3/lib/python3.7/site-packages/dask/config.py:168: YAMLLoadWarning: calling yaml.load() without Loader=... is deprecated, as the default Loader is unsafe. Please read https://msg.pyyaml.org/load for full details.\n",
      "  data = yaml.load(f.read()) or {}\n"
     ]
    }
   ],
   "source": [
    "from chromosome_dsb import *"
   ]
  },
  {
   "cell_type": "code",
   "execution_count": 3,
   "metadata": {},
   "outputs": [],
   "source": [
    "# Ignore warnings in notebook\n",
    "import warnings\n",
    "warnings.filterwarnings('ignore')"
   ]
  },
  {
   "cell_type": "code",
   "execution_count": 4,
   "metadata": {},
   "outputs": [],
   "source": [
    "# Some more magic so that the notebook will reload external python modules;\n",
    "# see http://stackoverflow.com/questions/1907993/autoreload-of-modules-in-ipython\n",
    "%load_ext autoreload\n",
    "%autoreload 2\n",
    "%reload_ext autoreload"
   ]
  },
  {
   "cell_type": "code",
   "execution_count": 5,
   "metadata": {},
   "outputs": [],
   "source": [
    "import numpy as np\n",
    "import javabridge\n",
    "import bioformats\n",
    "from sklearn.externals import joblib\n",
    "import os"
   ]
  },
  {
   "cell_type": "code",
   "execution_count": 6,
   "metadata": {},
   "outputs": [],
   "source": [
    "%matplotlib inline\n",
    "import matplotlib.pyplot as plt\n",
    "plt.rcParams['figure.figsize'] = 8,8\n",
    "plt.rcParams['image.interpolation'] = 'nearest'\n",
    "plt.rcParams['image.cmap'] = 'gray'"
   ]
  },
  {
   "cell_type": "markdown",
   "metadata": {},
   "source": [
    "## In path, enter the path to the folder you would like to analyse. "
   ]
  },
  {
   "cell_type": "code",
   "execution_count": 7,
   "metadata": {},
   "outputs": [],
   "source": [
    "path = '/Users/Espenel/Desktop/Mini-Grant-Image-analysis/2018/Chloe/data_chloe/cku-exo1_002'"
   ]
  },
  {
   "cell_type": "code",
   "execution_count": 8,
   "metadata": {},
   "outputs": [],
   "source": [
    "folder_batch = load_data.directory_batch(path)"
   ]
  },
  {
   "cell_type": "code",
   "execution_count": 9,
   "metadata": {},
   "outputs": [],
   "source": [
    "javabridge.start_vm(class_path=bioformats.JARS)"
   ]
  },
  {
   "cell_type": "code",
   "execution_count": 10,
   "metadata": {},
   "outputs": [],
   "source": [
    "position, time_point = load_data.stage_position(path)\n",
    "skelete = load_data.skeleton_coord(position,time_point)"
   ]
  },
  {
   "cell_type": "markdown",
   "metadata": {},
   "source": [
    "## The following cell in optional, you can use it to plot the stage position"
   ]
  },
  {
   "cell_type": "raw",
   "metadata": {},
   "source": [
    "data = np.concatenate((position,time_point[:, np.newaxis]), axis=1)\n",
    "sort_data = data[np.argsort(data[:,2])]\n",
    "\n",
    "fig, ax = plt.subplots(1, 1, figsize=(10, 10))\n",
    "ax.scatter(skelete[:,0], skelete[:,1], s=0.5)\n",
    "stage_pos = ax.scatter(sort_data[:,0], sort_data[:,1])\n",
    "plt.legend([stage_pos], [\"Stage Positions\"], loc=0,fontsize='large')"
   ]
  },
  {
   "cell_type": "markdown",
   "metadata": {},
   "source": [
    "# Set Parameters"
   ]
  },
  {
   "cell_type": "code",
   "execution_count": 11,
   "metadata": {},
   "outputs": [],
   "source": [
    "parameters = {\n",
    "# Define channel knowing than in Python, channel 1 would be 0 \n",
    "'FOCI_ch' : 1,\n",
    "'Nucleus_ch' : 3,\n",
    "# Size kernel for background substraction, should be a little larger than the object of interest\n",
    "'back_sub_FOCI' : 5,\n",
    "'back_sub_Nucleus' : 20,\n",
    "# LOCI detection:\n",
    "# Smallest object (in pixels) to be detected\n",
    "'smaller' : 1,\n",
    "# Largest object to be detected\n",
    "'largest' : 5,\n",
    "# Threshold above which to look for\n",
    "'threshold' : 18000       \n",
    "}"
   ]
  },
  {
   "cell_type": "markdown",
   "metadata": {},
   "source": [
    "## Enter the path to your classifier (clf) and scaler"
   ]
  },
  {
   "cell_type": "code",
   "execution_count": 12,
   "metadata": {},
   "outputs": [],
   "source": [
    "clf = joblib.load(\"/Users/Espenel/Desktop/Mini-Grant-Image-analysis/2018/Chloe/ChromosomeDetectionChloe/clf_scaler/clf\")\n",
    "scaler = joblib.load(\"/Users/Espenel/Desktop/Mini-Grant-Image-analysis/2018/Chloe/ChromosomeDetectionChloe/clf_scaler/scaler\")"
   ]
  },
  {
   "cell_type": "code",
   "execution_count": 13,
   "metadata": {},
   "outputs": [
    {
     "name": "stdout",
     "output_type": "stream",
     "text": [
      "\n",
      "\n",
      "###############################\n",
      "working on /Users/Espenel/Desktop/Mini-Grant-Image-analysis/2018/Chloe/data_chloe/cku-exo1_002/2017-04-12_RAD51-HTP3_cku80-exo1_002_visit_3_D3D_ALX.dv\n",
      "opening data\n",
      "searching nucleus\n",
      "substract background\n",
      "finding FOCI\n",
      "image binarization\n",
      "It took 321.1082968711853sec to analyse it\n",
      "\n",
      "\n",
      "###############################\n",
      "working on /Users/Espenel/Desktop/Mini-Grant-Image-analysis/2018/Chloe/data_chloe/cku-exo1_002/2017-04-12_RAD51-HTP3_cku80-exo1_002_visit_17_D3D_ALX.dv\n",
      "opening data\n",
      "searching nucleus\n",
      "substract background\n",
      "finding FOCI\n",
      "image binarization\n",
      "It took 256.5761799812317sec to analyse it\n",
      "\n",
      "\n",
      "###############################\n",
      "working on /Users/Espenel/Desktop/Mini-Grant-Image-analysis/2018/Chloe/data_chloe/cku-exo1_002/2017-04-12_RAD51-HTP3_cku80-exo1_002_visit_20_D3D_ALX.dv\n",
      "opening data\n",
      "searching nucleus\n",
      "It took 190.05792999267578sec to analyse it\n",
      "\n",
      "\n",
      "###############################\n",
      "working on /Users/Espenel/Desktop/Mini-Grant-Image-analysis/2018/Chloe/data_chloe/cku-exo1_002/2017-04-12_RAD51-HTP3_cku80-exo1_002_visit_25_D3D_ALX.dv\n",
      "opening data\n",
      "searching nucleus\n",
      "It took 202.41538310050964sec to analyse it\n",
      "\n",
      "\n",
      "###############################\n",
      "working on /Users/Espenel/Desktop/Mini-Grant-Image-analysis/2018/Chloe/data_chloe/cku-exo1_002/2017-04-12_RAD51-HTP3_cku80-exo1_002_visit_12_D3D_ALX.dv\n",
      "opening data\n",
      "searching nucleus\n",
      "substract background\n",
      "finding FOCI\n",
      "image binarization\n",
      "It took 247.68957495689392sec to analyse it\n",
      "\n",
      "\n",
      "###############################\n",
      "working on /Users/Espenel/Desktop/Mini-Grant-Image-analysis/2018/Chloe/data_chloe/cku-exo1_002/2017-04-12_RAD51-HTP3_cku80-exo1_002_visit_6_D3D_ALX.dv\n",
      "opening data\n",
      "searching nucleus\n",
      "substract background\n",
      "finding FOCI\n",
      "image binarization\n",
      "It took 233.8764088153839sec to analyse it\n",
      "\n",
      "\n",
      "###############################\n",
      "working on /Users/Espenel/Desktop/Mini-Grant-Image-analysis/2018/Chloe/data_chloe/cku-exo1_002/2017-04-12_RAD51-HTP3_cku80-exo1_002_visit_18_D3D_ALX.dv\n",
      "opening data\n",
      "searching nucleus\n",
      "substract background\n",
      "finding FOCI\n",
      "image binarization\n",
      "It took 187.47481226921082sec to analyse it\n",
      "\n",
      "\n",
      "###############################\n",
      "working on /Users/Espenel/Desktop/Mini-Grant-Image-analysis/2018/Chloe/data_chloe/cku-exo1_002/2017-04-12_RAD51-HTP3_cku80-exo1_002_visit_1_D3D_ALX.dv\n",
      "opening data\n",
      "searching nucleus\n",
      "It took 137.62469601631165sec to analyse it\n",
      "\n",
      "\n",
      "###############################\n",
      "working on /Users/Espenel/Desktop/Mini-Grant-Image-analysis/2018/Chloe/data_chloe/cku-exo1_002/2017-04-12_RAD51-HTP3_cku80-exo1_002_visit_22_D3D_ALX.dv\n",
      "opening data\n",
      "searching nucleus\n",
      "substract background\n",
      "finding FOCI\n",
      "image binarization\n",
      "It took 173.95898914337158sec to analyse it\n",
      "\n",
      "\n",
      "###############################\n",
      "working on /Users/Espenel/Desktop/Mini-Grant-Image-analysis/2018/Chloe/data_chloe/cku-exo1_002/2017-04-12_RAD51-HTP3_cku80-exo1_002_visit_15_D3D_ALX.dv\n",
      "opening data\n",
      "searching nucleus\n",
      "substract background\n",
      "finding FOCI\n",
      "image binarization\n",
      "It took 181.28989696502686sec to analyse it\n",
      "\n",
      "\n",
      "###############################\n",
      "working on /Users/Espenel/Desktop/Mini-Grant-Image-analysis/2018/Chloe/data_chloe/cku-exo1_002/2017-04-12_RAD51-HTP3_cku80-exo1_002_visit_10_D3D_ALX.dv\n",
      "opening data\n",
      "searching nucleus\n",
      "substract background\n",
      "finding FOCI\n",
      "image binarization\n",
      "It took 205.4831838607788sec to analyse it\n",
      "\n",
      "\n",
      "###############################\n",
      "working on /Users/Espenel/Desktop/Mini-Grant-Image-analysis/2018/Chloe/data_chloe/cku-exo1_002/2017-04-12_RAD51-HTP3_cku80-exo1_002_visit_27_D3D_ALX.dv\n",
      "opening data\n",
      "searching nucleus\n",
      "substract background\n",
      "finding FOCI\n",
      "image binarization\n",
      "It took 216.73852634429932sec to analyse it\n",
      "\n",
      "\n",
      "###############################\n",
      "working on /Users/Espenel/Desktop/Mini-Grant-Image-analysis/2018/Chloe/data_chloe/cku-exo1_002/2017-04-12_RAD51-HTP3_cku80-exo1_002_visit_4_D3D_ALX.dv\n",
      "opening data\n",
      "searching nucleus\n",
      "substract background\n",
      "finding FOCI\n",
      "image binarization\n",
      "It took 210.10897302627563sec to analyse it\n",
      "\n",
      "\n",
      "###############################\n",
      "working on /Users/Espenel/Desktop/Mini-Grant-Image-analysis/2018/Chloe/data_chloe/cku-exo1_002/2017-04-12_RAD51-HTP3_cku80-exo1_002_visit_9_D3D_ALX.dv\n",
      "opening data\n",
      "searching nucleus\n",
      "substract background\n",
      "finding FOCI\n",
      "image binarization\n",
      "It took 214.16695308685303sec to analyse it\n",
      "\n",
      "\n",
      "###############################\n",
      "working on /Users/Espenel/Desktop/Mini-Grant-Image-analysis/2018/Chloe/data_chloe/cku-exo1_002/2017-04-12_RAD51-HTP3_cku80-exo1_002_visit_7_D3D_ALX.dv\n",
      "opening data\n",
      "searching nucleus\n",
      "substract background\n",
      "finding FOCI\n",
      "image binarization\n",
      "It took 265.534619808197sec to analyse it\n",
      "\n",
      "\n",
      "###############################\n",
      "working on /Users/Espenel/Desktop/Mini-Grant-Image-analysis/2018/Chloe/data_chloe/cku-exo1_002/2017-04-12_RAD51-HTP3_cku80-exo1_002_visit_24_D3D_ALX.dv\n",
      "opening data\n",
      "searching nucleus\n",
      "substract background\n",
      "finding FOCI\n",
      "image binarization\n",
      "It took 214.7439739704132sec to analyse it\n",
      "\n",
      "\n",
      "###############################\n",
      "working on /Users/Espenel/Desktop/Mini-Grant-Image-analysis/2018/Chloe/data_chloe/cku-exo1_002/2017-04-12_RAD51-HTP3_cku80-exo1_002_visit_13_D3D_ALX.dv\n",
      "opening data\n",
      "searching nucleus\n",
      "substract background\n",
      "finding FOCI\n",
      "image binarization\n",
      "It took 272.7155866622925sec to analyse it\n",
      "\n",
      "\n",
      "###############################\n",
      "working on /Users/Espenel/Desktop/Mini-Grant-Image-analysis/2018/Chloe/data_chloe/cku-exo1_002/2017-04-12_RAD51-HTP3_cku80-exo1_002_visit_16_D3D_ALX.dv\n",
      "opening data\n",
      "searching nucleus\n",
      "substract background\n",
      "finding FOCI\n",
      "image binarization\n",
      "It took 278.1852717399597sec to analyse it\n",
      "\n",
      "\n",
      "###############################\n",
      "working on /Users/Espenel/Desktop/Mini-Grant-Image-analysis/2018/Chloe/data_chloe/cku-exo1_002/2017-04-12_RAD51-HTP3_cku80-exo1_002_visit_21_D3D_ALX.dv\n",
      "opening data\n",
      "searching nucleus\n",
      "substract background\n",
      "finding FOCI\n",
      "image binarization\n",
      "It took 245.64309787750244sec to analyse it\n",
      "\n",
      "\n",
      "###############################\n",
      "working on /Users/Espenel/Desktop/Mini-Grant-Image-analysis/2018/Chloe/data_chloe/cku-exo1_002/2017-04-12_RAD51-HTP3_cku80-exo1_002_visit_2_D3D_ALX.dv\n",
      "opening data\n",
      "searching nucleus\n",
      "substract background\n",
      "finding FOCI\n",
      "image binarization\n",
      "It took 198.1492359638214sec to analyse it\n",
      "\n",
      "\n",
      "###############################\n",
      "working on /Users/Espenel/Desktop/Mini-Grant-Image-analysis/2018/Chloe/data_chloe/cku-exo1_002/2017-04-12_RAD51-HTP3_cku80-exo1_002_visit_5_D3D_ALX.dv\n",
      "opening data\n",
      "searching nucleus\n",
      "substract background\n",
      "finding FOCI\n",
      "image binarization\n",
      "It took 257.46484303474426sec to analyse it\n",
      "\n",
      "\n",
      "###############################\n",
      "working on /Users/Espenel/Desktop/Mini-Grant-Image-analysis/2018/Chloe/data_chloe/cku-exo1_002/2017-04-12_RAD51-HTP3_cku80-exo1_002_visit_11_D3D_ALX.dv\n",
      "opening data\n",
      "searching nucleus\n",
      "substract background\n",
      "finding FOCI\n",
      "image binarization\n",
      "It took 278.7332570552826sec to analyse it\n",
      "\n",
      "\n",
      "###############################\n",
      "working on /Users/Espenel/Desktop/Mini-Grant-Image-analysis/2018/Chloe/data_chloe/cku-exo1_002/2017-04-12_RAD51-HTP3_cku80-exo1_002_visit_26_D3D_ALX.dv\n",
      "opening data\n",
      "searching nucleus\n",
      "substract background\n",
      "finding FOCI\n",
      "image binarization\n",
      "It took 238.17393803596497sec to analyse it\n",
      "\n",
      "\n",
      "###############################\n",
      "working on /Users/Espenel/Desktop/Mini-Grant-Image-analysis/2018/Chloe/data_chloe/cku-exo1_002/2017-04-12_RAD51-HTP3_cku80-exo1_002_visit_8_D3D_ALX.dv\n",
      "opening data\n",
      "searching nucleus\n",
      "substract background\n",
      "finding FOCI\n",
      "image binarization\n",
      "It took 227.38768100738525sec to analyse it\n",
      "\n",
      "\n",
      "###############################\n",
      "working on /Users/Espenel/Desktop/Mini-Grant-Image-analysis/2018/Chloe/data_chloe/cku-exo1_002/2017-04-12_RAD51-HTP3_cku80-exo1_002_visit_19_D3D_ALX.dv\n",
      "opening data\n",
      "searching nucleus\n",
      "It took 169.00900602340698sec to analyse it\n",
      "\n",
      "\n",
      "###############################\n",
      "working on /Users/Espenel/Desktop/Mini-Grant-Image-analysis/2018/Chloe/data_chloe/cku-exo1_002/2017-04-12_RAD51-HTP3_cku80-exo1_002_visit_23_D3D_ALX.dv\n",
      "opening data\n",
      "searching nucleus\n",
      "substract background\n",
      "finding FOCI\n",
      "image binarization\n",
      "It took 215.29054498672485sec to analyse it\n",
      "\n",
      "\n",
      "###############################\n",
      "working on /Users/Espenel/Desktop/Mini-Grant-Image-analysis/2018/Chloe/data_chloe/cku-exo1_002/2017-04-12_RAD51-HTP3_cku80-exo1_002_visit_14_D3D_ALX.dv\n",
      "opening data\n",
      "searching nucleus\n",
      "substract background\n",
      "finding FOCI\n",
      "image binarization\n"
     ]
    },
    {
     "name": "stdout",
     "output_type": "stream",
     "text": [
      "It took 189.3222267627716sec to analyse it\n",
      "lens of data before removing duplicate = 443\n",
      "lens of data after removing duplicate = 336\n"
     ]
    }
   ],
   "source": [
    "batch.batch_analysis(path, clf, scaler, folder_batch, skelete, parameters=parameters)"
   ]
  },
  {
   "cell_type": "code",
   "execution_count": 14,
   "metadata": {},
   "outputs": [],
   "source": [
    "import pandas as pd"
   ]
  },
  {
   "cell_type": "code",
   "execution_count": 15,
   "metadata": {},
   "outputs": [],
   "source": [
    "df = pd.read_csv(\"/Users/Espenel/Desktop/Mini-Grant-Image-analysis/2018/Chloe/data_chloe/cku-exo1_002/result_cku-exo1_002_09_10_2019/cku-exo1_002.csv\")"
   ]
  },
  {
   "cell_type": "code",
   "execution_count": 17,
   "metadata": {},
   "outputs": [],
   "source": [
    "data = np.concatenate((position,time_point[:, np.newaxis]), axis=1)\n",
    "sort_data = data[np.argsort(data[:,2])]\n",
    "\n",
    "fig, ax = plt.subplots(1, 1, figsize=(5, 10))\n",
    "ax.scatter(skelete[:,0], skelete[:,1], s=0.5, c=\"g\")\n",
    "cs = ax.scatter(df['Chromosome position x in stage coordinate'], df['Chromosome position y in stage coordinate'])\n",
    "\n",
    "#cbar = fig.colorbar(cs)\n",
    "#cbar.set_label('Distance from the tip in um')\n",
    "stage_pos = ax.scatter(sort_data[:,0], sort_data[:,1])\n",
    "plt.legend([stage_pos, cs], [\"Stage Positions\", \"Nucleus\"], loc=0,fontsize='large')\n",
    "#plt.legend([cs], [\"Chromosome\"], loc=1,fontsize='large')\n",
    "plt.savefig('/Users/Espenel/Desktop/skeleteon.pdf', bbox_inches=\"tight\", pad_inches=0,transparent=True)"
   ]
  },
  {
   "cell_type": "code",
   "execution_count": null,
   "metadata": {},
   "outputs": [],
   "source": [
    "data = np.concatenate((position,time_point[:, np.newaxis]), axis=1)\n",
    "sort_data = data[np.argsort(data[:,2])]\n",
    "\n",
    "fig, ax = plt.subplots(1, 1, figsize=(5, 10))\n",
    "ax.scatter(skelete[:,0], skelete[:,1], s=0.5)\n",
    "#ax.scatter(coords[:,0], coords[:,1], c='g')\n",
    "#stage_pos = ax.scatter(sort_data[:,0], sort_data[:,1])\n",
    "#working_on = ax.scatter(meta[\"PositionX\"], meta[\"PositionY\"], s=300, color = \"r\")\n",
    "#plt.legend([stage_pos, working_on], [\"Stage Positions\", \n",
    "#                                     \"Image currently working on\"],\n",
    "#                                      loc=0,fontsize='large')\n",
    "#plt.savefig('/Users/Espenel/Desktop/skeleton_1.png', bbox_inches=\"tight\", pad_inches=0)"
   ]
  },
  {
   "cell_type": "code",
   "execution_count": null,
   "metadata": {},
   "outputs": [],
   "source": [
    "df['Chromosome position y in stage coordinate']"
   ]
  },
  {
   "cell_type": "code",
   "execution_count": null,
   "metadata": {},
   "outputs": [],
   "source": [
    "df['Chromosome position x in stage coordinate']"
   ]
  },
  {
   "cell_type": "code",
   "execution_count": null,
   "metadata": {},
   "outputs": [],
   "source": []
  }
 ],
 "metadata": {
  "kernelspec": {
   "display_name": "Python 3",
   "language": "python",
   "name": "python3"
  },
  "language_info": {
   "codemirror_mode": {
    "name": "ipython",
    "version": 3
   },
   "file_extension": ".py",
   "mimetype": "text/x-python",
   "name": "python",
   "nbconvert_exporter": "python",
   "pygments_lexer": "ipython3",
   "version": "3.7.3"
  }
 },
 "nbformat": 4,
 "nbformat_minor": 2
}
